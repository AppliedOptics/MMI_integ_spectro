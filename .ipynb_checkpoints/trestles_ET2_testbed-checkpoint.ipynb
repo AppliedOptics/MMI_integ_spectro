{
 "cells": [
  {
   "cell_type": "code",
   "execution_count": 1,
   "id": "f797cfa8",
   "metadata": {},
   "outputs": [],
   "source": [
    "import socket\n",
    "import time\n",
    "import numpy as np\n",
    "import csv\n",
    "from IPython import display\n",
    "from matplotlib.axis import Axis\n",
    "import matplotlib.pyplot as plt \n",
    "import pandas as pd\n",
    "%matplotlib inline"
   ]
  },
  {
   "cell_type": "code",
   "execution_count": 2,
   "id": "a7534400",
   "metadata": {},
   "outputs": [],
   "source": [
    "def sock_send(sock,msg,receive=False,cond=None):\n",
    "    sock.send(msg.encode()+b\"\\r\\n\")\n",
    "    if receive:\n",
    "        if cond != None:\n",
    "            data = b'0'\n",
    "            while data.decode(\"utf-8\")[0] != cond:\n",
    "                sock.send(b\":stat:oper:even?\\r\\n\")\n",
    "                data = sock.recv(1024)\n",
    "\n",
    "                time.sleep(0.1)\n",
    "#             print(data)\n",
    "            return data\n",
    "        else:\n",
    "            data = sock.recv(1024)\n",
    "#             print(data)\n",
    "            return data\n",
    "    return None\n",
    "\n",
    "def sock_send_arr(sock,msg_list,receive=False):\n",
    "    ret = []\n",
    "    for msg in msg_list:\n",
    "        ret += [sock_send(sock,msg,receive)]\n",
    "    return ret\n",
    "\n",
    "def querry_data(sock,msg):\n",
    "    sock.send(msg.encode()+b\"\\r\\n\")  \n",
    "    strData2=b\"\"\n",
    "    i=0\n",
    "    while True:\n",
    "#         print(f\"iter{i}\")\n",
    "        i=i+1\n",
    "        strData2=sock.recv(1024)\n",
    "#         print(strData2)\n",
    "        if strData2.decode(\"utf-8\")[0]==\"+\":\n",
    "            break  \n",
    "    return strData2.decode(\"utf-8\")"
   ]
  },
  {
   "cell_type": "code",
   "execution_count": 5,
   "id": "8acc18e9",
   "metadata": {},
   "outputs": [],
   "source": [
    "##OSA User inputs\n",
    "\n",
    "###For only ET2 filter movement\n",
    "start_WL=793\n",
    "stop_WL=797  #end point not executed\n",
    "\n",
    "Resln=0.05\n",
    "Sampling_interval= 0.005\n",
    "Average_times=1\n",
    "sensitivity=\"mid\"  #Options- norm, mid, high1,2,3. generally use high1\n",
    "smoothing=\"OFF\"\n",
    "\n",
    "RLevel_nW=650"
   ]
  },
  {
   "cell_type": "code",
   "execution_count": 19,
   "id": "56622c2c",
   "metadata": {},
   "outputs": [
    {
     "name": "stdout",
     "output_type": "stream",
     "text": [
      "Trestles connected\n"
     ]
    }
   ],
   "source": [
    "# Connection to Labview (Trestles)\n",
    "HOST_mono='127.0.0.1'  #Monochromator server LabView program (this machines IP)\n",
    "PORT_mono=27025\n",
    "s_mono=socket.socket(socket.AF_INET,socket.SOCK_STREAM)\n",
    "flag1=s_mono.connect((HOST_mono,PORT_mono))\n",
    "if flag1==None:\n",
    "    print(\"Trestles connected\")\n",
    "\n",
    "mono_send=b\"abc\"\n",
    "mond_send_end=b\"enn\"\n",
    "\n",
    "# csv field names \n",
    "OSA_data={}\n",
    "fields = ['index','peakX', 'peakY', 'centerWL', 'widthFWHM']\n",
    "filename = \"ET2_trestles_peaks_summary.csv\""
   ]
  },
  {
   "cell_type": "code",
   "execution_count": 20,
   "id": "09f9c2d6",
   "metadata": {},
   "outputs": [],
   "source": [
    "N=1415\n",
    "new_index=0\n",
    "expected_interval=0.05"
   ]
  },
  {
   "cell_type": "code",
   "execution_count": 21,
   "id": "fe1e0600",
   "metadata": {},
   "outputs": [
    {
     "name": "stdout",
     "output_type": "stream",
     "text": [
      "OSA connected\n"
     ]
    }
   ],
   "source": [
    "#Connection to OSA\n",
    "HOST = '192.168.0.1'    # The remote server (OSA)\n",
    "PORT = 10001              # The same port as used by the server (OSA)\n",
    "s= socket.socket(socket.AF_INET, socket.SOCK_STREAM)\n",
    "s.connect((HOST, PORT))    \n",
    "print(\"OSA connected\")\n",
    "data = sock_send_arr(s,[\"open \\\"anonymous\\\"\", \" \"],receive=True)"
   ]
  },
  {
   "cell_type": "code",
   "execution_count": 22,
   "id": "5da0de4f",
   "metadata": {},
   "outputs": [
    {
     "data": {
      "image/png": "[encoded data removed]",
      "text/plain": [
       "<Figure size 1080x288 with 1 Axes>"
      ]
     },
     "metadata": {
      "needs_background": "light"
     },
     "output_type": "display_data"
    },
    {
     "name": "stdout",
     "output_type": "stream",
     "text": [
      "done 924\n"
     ]
    },
    {
     "ename": "ConnectionAbortedError",
     "evalue": "[WinError 10053] An established connection was aborted by the software in your host machine",
     "output_type": "error",
     "traceback": [
      "\u001b[1;31m---------------------------------------------------------------------------\u001b[0m",
      "\u001b[1;31mConnectionAbortedError\u001b[0m                    Traceback (most recent call last)",
      "\u001b[1;32m~\\AppData\\Local\\Temp/ipykernel_18112/3615991788.py\u001b[0m in \u001b[0;36m<module>\u001b[1;34m\u001b[0m\n\u001b[0;32m      7\u001b[0m \u001b[1;31m# while True:\u001b[0m\u001b[1;33m\u001b[0m\u001b[1;33m\u001b[0m\u001b[0m\n\u001b[0;32m      8\u001b[0m \u001b[1;32mfor\u001b[0m \u001b[0mcent\u001b[0m \u001b[1;32min\u001b[0m \u001b[0mrange\u001b[0m\u001b[1;33m(\u001b[0m\u001b[0mnew_index\u001b[0m\u001b[1;33m,\u001b[0m \u001b[0mN\u001b[0m\u001b[1;33m)\u001b[0m\u001b[1;33m:\u001b[0m\u001b[1;33m\u001b[0m\u001b[1;33m\u001b[0m\u001b[0m\n\u001b[1;32m----> 9\u001b[1;33m     \u001b[0mmsg\u001b[0m\u001b[1;33m=\u001b[0m\u001b[0ms_mono\u001b[0m\u001b[1;33m.\u001b[0m\u001b[0mrecv\u001b[0m\u001b[1;33m(\u001b[0m\u001b[1;36m1024\u001b[0m\u001b[1;33m)\u001b[0m\u001b[1;33m\u001b[0m\u001b[1;33m\u001b[0m\u001b[0m\n\u001b[0m\u001b[0;32m     10\u001b[0m \u001b[1;31m#     if msg.decode(\"utf-8\")==\"cw\" or msg.decode(\"utf-8\")==\"cc\":\u001b[0m\u001b[1;33m\u001b[0m\u001b[1;33m\u001b[0m\u001b[0m\n\u001b[0;32m     11\u001b[0m     \u001b[1;32mif\u001b[0m \u001b[0mmsg\u001b[0m\u001b[1;33m.\u001b[0m\u001b[0mdecode\u001b[0m\u001b[1;33m(\u001b[0m\u001b[1;34m\"utf-8\"\u001b[0m\u001b[1;33m)\u001b[0m\u001b[1;33m==\u001b[0m\u001b[1;34m\"go\"\u001b[0m\u001b[1;33m:\u001b[0m\u001b[1;33m\u001b[0m\u001b[1;33m\u001b[0m\u001b[0m\n",
      "\u001b[1;31mConnectionAbortedError\u001b[0m: [WinError 10053] An established connection was aborted by the software in your host machine"
     ]
    }
   ],
   "source": [
    "targets=np.arange(695.0,696.0,.05)\n",
    "savedlocs=pd.DataFrame({'targetpoint': pd.Series(dtype='float'),\\\n",
    "                   'realpoint': pd.Series(dtype='float'),\\\n",
    "                   'imgindex': pd.Series(dtype='int')})\n",
    "\n",
    "\n",
    "# while True:\n",
    "for cent in range(new_index, N):    \n",
    "    msg=s_mono.recv(1024) \n",
    "#     if msg.decode(\"utf-8\")==\"cw\" or msg.decode(\"utf-8\")==\"cc\":\n",
    "    if msg.decode(\"utf-8\")==\"go\":\n",
    "\n",
    "        data = sock_send_arr(s,[\"*RST\",\"CFORM1\",f\":sens:wav:star {start_WL}nm\",f\":sens:wav:stop {stop_WL}nm\"])\n",
    "        data=sock_send_arr(s,[\"CFORM1\",f\":sens:band:res {Resln}nm\",f\":sens:sens {sensitivity}\"])\n",
    "        data=sock_send_arr(s,[f\":sens:sett:smo {smoothing}\",\\\n",
    "                                \":sens:sweep:points:auto off\",f\":sens:sweep:step {Sampling_interval}nm\",\\\n",
    "                              \":sens:corr:rvel:med air\"])\n",
    "        data=sock_send_arr(s,[f\":sens:aver:coun {Average_times}\",\":sens:chop OFF\"])\n",
    "        data=sock_send_arr(s,[\":DISPLAY:TRACE:Y1:SPACING LIN\",f\":DISPLAY:TRACE:Y1:RLEVEL {RLevel_nW}nW\"])\n",
    "#         print(f\"mono received for {cent}\")\n",
    "        OSA_data['index']=cent\n",
    "        data = sock_send_arr(s,[\":init:smode 1\",\"*CLS\",\":init\"])\n",
    "        data = sock_send(s,\":stat:oper:even?\",receive=True,cond='1')\n",
    "#         time.sleep(1)\n",
    "        data = sock_send_arr(s,[\"CFORM1\",\":mmem:cdr int\"])\n",
    "        data = sock_send(s,f\":mmem:stor:trac tra,csv,\\\"trace_{cent}\\\",int\",receive=True)\n",
    "\n",
    "        ##calculate peak WL\n",
    "        data=sock_send(s,\":calc:mark:max\")\n",
    "        data_peakx=querry_data(s,\":calc:mark:x? 0\")        \n",
    "        OSA_data['peakX']=float(data_peakx)*1e9\n",
    "        \n",
    "        for j,t in enumerate(targets):\n",
    "            if abs(t-OSA_data['peakX'])<0.025:\n",
    "                if savedlocs.empty==False:\n",
    "    #                 matches=savedlocs[\"targetpoint\"].where(savedlocs[\"targetpoint\"]==t)\n",
    "                    matches=savedlocs[savedlocs['targetpoint']==t]\n",
    "                    if matches.empty==True:\n",
    "                        new_row = {'targetpoint':t, 'realpoint':OSA_data['peakX'], 'imgindex':cent}\n",
    "                        savedlocs=savedlocs.append(new_row,ignore_index=True)\n",
    "                else:\n",
    "                    new_row = {'targetpoint':t, 'realpoint':OSA_data['peakX'], 'imgindex':cent}\n",
    "                    savedlocs=savedlocs.append(new_row,ignore_index=True)  \n",
    "                    \n",
    "                    \n",
    "#         print(f\"peak={float(data_peakx)*1e9}\")\n",
    "        data_peaky=querry_data(s,\":calc:mark:y? 0\")\n",
    "        OSA_data['peakY']=float(data_peaky)\n",
    "        \n",
    "#calculate 3dB BW\n",
    "        data=sock_send_arr(s,[\":calc:cat swth\"])\n",
    "        data=sock_send_arr(s,[\":calc:par:cat:swth:TH 3.0\"])\n",
    "        data=sock_send(s,\":calc\")\n",
    "        str_thresh=querry_data(s,\":calc:data?\")\n",
    "        data_thresh=str_thresh.split(',')\n",
    "        OSA_data['centerWL']=float(data_thresh[0])*1e9\n",
    "        OSA_data['widthFWHM']=float(data_thresh[1])*1e9\n",
    "        \n",
    "        if cent==0:\n",
    "#             with open(filename, 'a',newline='') as csvfile:\n",
    "#                 csvfile.write(f\"motor running in {msg} motion\\n\")\n",
    "            with open(filename, 'w',newline='') as csvfile:\n",
    "                writer = csv.DictWriter(csvfile, fieldnames = fields) \n",
    "                writer.writeheader() \n",
    "                \n",
    "                \n",
    "        with open(filename, 'a',newline='') as csvfile: \n",
    "    # creating a csv dict writer object \n",
    "            writer = csv.DictWriter(csvfile, fieldnames = fields) \n",
    "            writer.writerow(OSA_data) \n",
    "        \n",
    "        ###update plot\n",
    "        master_list=pd.read_csv('ET2_trestles_peaks_summary.csv',skiprows=1,names=['index','peakX','peakY','centerWL','widthFWHM'])\n",
    "        plt.figure().set_figwidth(15)\n",
    "        fig=plt.plot(master_list['index'],master_list['peakX'],marker='+')\n",
    "#         ax.tick_params(axis='y', which='minor', bottom=False)\n",
    "#         if cent==0:\n",
    "#             plt.scatter(master_list['index'],master_list['peakX'],marker='o')\n",
    "#         else:\n",
    "#             plt.scatter(master_list['index'],master_list['peakX'].iloc[0]+np.arange(0,expected_interval*(cent+1),\\\n",
    "#                                                                                     expected_interval),marker='o')\n",
    "\n",
    "        display.clear_output(wait=True)\n",
    "        plt.show()\n",
    "        \n",
    "        cent+=1\n",
    "        if cent==N:\n",
    "            s_mono.send(mond_send_end)\n",
    "            break\n",
    "        else:\n",
    "            s_mono.send(mono_send)\n",
    "            print(f\"done {cent-1}\")   \n",
    "        \n",
    "\n",
    "        \n",
    "    elif msg.decode(\"utf-8\")==\"stploop\":\n",
    "        print(\"operation stopped by Labview\")\n",
    "        s_mono.send(mond_send_end)\n",
    "        \n",
    "        \n",
    "        break\n",
    "                \n",
    "    \n",
    "flag=s.close()\n",
    "if flag==None:\n",
    "    print(\"OSA Socket Closed Successfully\")"
   ]
  },
  {
   "cell_type": "code",
   "execution_count": null,
   "id": "d44c9e86",
   "metadata": {},
   "outputs": [],
   "source": [
    "targets=np.arange(694.0,696.05,.05)\n",
    "truepeaks=pd.read_csv('ET2_trestles_peaks_summary.csv',skiprows=1,names=['index','peakX','peakY','centerWL','widthFWHM'])\n",
    "savedlocs=pd.read_csv('peaklocs.csv')\n",
    "\n",
    "\n",
    "for i,peak in enumerate(truepeaks['peakX']):\n",
    "    for j,t in enumerate(targets):\n",
    "            if abs(t-peak)<0.025:\n",
    "                if savedlocs.empty==False:\n",
    "    #                 matches=savedlocs[\"targetpoint\"].where(savedlocs[\"targetpoint\"]==t)\n",
    "                    matches=savedlocs[savedlocs['targetpoint']==t]\n",
    "                    if matches.empty==True:\n",
    "                        new_row = {'targetpoint':t, 'realpoint':peak, 'imgindex':i}\n",
    "                        savedlocs=savedlocs.append(new_row,ignore_index=True)\n",
    "                else:\n",
    "                    new_row = {'targetpoint':t, 'realpoint':peak, 'imgindex':i}\n",
    "                    savedlocs=pd.DataFrame({'targetpoint': pd.Series(dtype='float'),\\\n",
    "                                               'realpoint': pd.Series(dtype='float'),\\\n",
    "                                               'imgindex': pd.Series(dtype='int')})\n",
    "                    savedlocs=savedlocs.append(new_row,ignore_index=True)  \n",
    "\n",
    "\n"
   ]
  },
  {
   "cell_type": "code",
   "execution_count": null,
   "id": "56160560",
   "metadata": {},
   "outputs": [],
   "source": [
    "##write to csv\n",
    "savedlocs.to_csv('peaklocs.csv', header=True, index=False)"
   ]
  },
  {
   "cell_type": "code",
   "execution_count": 9,
   "id": "d6a45c9c",
   "metadata": {},
   "outputs": [],
   "source": [
    "foundvals=set(savedlocs['targetpoint'].to_numpy()) \n",
    "missedvals=[x for x in targets if x not in foundvals]\n",
    " \n",
    "print(savedlocs)  \n",
    "# print(*missedvals,sep='\\n')"
   ]
  }
 ],
 "metadata": {
  "kernelspec": {
   "display_name": "Python 3 (ipykernel)",
   "language": "python",
   "name": "python3"
  },
  "language_info": {
   "codemirror_mode": {
    "name": "ipython",
    "version": 3
   },
   "file_extension": ".py",
   "mimetype": "text/x-python",
   "name": "python",
   "nbconvert_exporter": "python",
   "pygments_lexer": "ipython3",
   "version": "3.9.7"
  }
 },
 "nbformat": 4,
 "nbformat_minor": 5
}
