{
 "cells": [
  {
   "cell_type": "markdown",
   "id": "3d1f204f",
   "metadata": {},
   "source": [
    "# <span style='color:blue'> *Blue Italic steps are optional (run if OSA connected)* </span>"
   ]
  },
  {
   "cell_type": "code",
   "execution_count": 1,
   "id": "329d255d",
   "metadata": {},
   "outputs": [
    {
     "name": "stdout",
     "output_type": "stream",
     "text": [
      "Loading x64 DLL from: C:\\Users\\Public\\Documents\\NKT Photonics\\SDK\\NKTPDLL\\x64\\NKTPDLL.dll\n"
     ]
    }
   ],
   "source": [
    "from NKTP_DLL import *\n",
    "import time\n",
    "import numpy as np\n",
    "import pandas as pd\n",
    "from sys import getsizeof\n",
    "import socket\n",
    "import csv\n",
    "import colorama\n",
    "from colorama import Fore"
   ]
  },
  {
   "cell_type": "markdown",
   "id": "6d8fc837",
   "metadata": {},
   "source": [
    "## Connect NKT Select"
   ]
  },
  {
   "cell_type": "code",
   "execution_count": 2,
   "id": "2df56f18",
   "metadata": {},
   "outputs": [
    {
     "name": "stdout",
     "output_type": "stream",
     "text": [
      "Find modules on all existing and accessible ports - Might take a few seconds to complete.....\n",
      "Scanning following ports in normal mode: COM4\n",
      "0\n",
      "Following ports has modules: COM4\n",
      "0 <class 'bytes'>\n",
      "device address:\n",
      "extreme@ 15,extreme_fp@ 1,RF_power@ 27,SuperK_select@ 16 \n",
      "Close result:  0:OPSuccess\n"
     ]
    }
   ],
   "source": [
    "print('Find modules on all existing and accessible ports - Might take a few seconds to complete.....')\n",
    "if (getLegacyBusScanning()):\n",
    "    print('Scanning following ports in legacy mode:', getAllPorts())\n",
    "else:\n",
    "    print('Scanning following ports in normal mode:', getAllPorts())\n",
    "\n",
    "# Use the openPorts function with Auto & Live settings. This will scan and detect modules\n",
    "# on all ports returned by the getAllPorts function.\n",
    "# Please note that a port being in use by another application, will show up in this list but will\n",
    "# not show any devices due to this port being inaccessible.\n",
    "print(openPorts(getAllPorts(), 1, 1))\n",
    "\n",
    "# All ports returned by the getOpenPorts function has modules (ports with no modules will automatically be closed)\n",
    "print('Following ports has modules:', getOpenPorts())\n",
    "\n",
    "# Traverse the getOpenPorts list and retrieve found modules via the deviceGetAllTypes function\n",
    "portlist = getOpenPorts().split(',')\n",
    "for portName in portlist:\n",
    "    result, devList = deviceGetAllTypes(portName)\n",
    "    print(result,type(devList))\n",
    "    for devId in range(0, len(devList)):\n",
    "        if (devList[devId] != 0):\n",
    "#             print('Comport:',portName,'Device type:',\"0x%0.2X\" % devList[devId],'at address:',devId)\n",
    "            if devList[devId]==0x60:\n",
    "                extreme=devId\n",
    "            elif devList[devId]==0x61:\n",
    "                extreme_fp=devId\n",
    "            elif devList[devId]==0x66:\n",
    "                RF_power=devId\n",
    "            elif devList[devId]==0x67:\n",
    "                SuperK_select=devId\n",
    "    print(f\"device address:\\nextreme@ {extreme},extreme_fp@ {extreme_fp},RF_power@ {RF_power},SuperK_select@ {SuperK_select} \")\n",
    "closeResult = closePorts('')\n",
    "print('Close result: ', PortResultTypes(closeResult))"
   ]
  },
  {
   "cell_type": "markdown",
   "id": "50ae2376",
   "metadata": {},
   "source": [
    "## <span style='color:red'> <span style='background :yellow' >Andor and PM connect (NKT is TCP host) </span>"
   ]
  },
  {
   "cell_type": "code",
   "execution_count": 25,
   "id": "14ba688b",
   "metadata": {},
   "outputs": [
    {
     "name": "stdout",
     "output_type": "stream",
     "text": [
      "Connection from: ('127.0.0.1', 62225)\n"
     ]
    }
   ],
   "source": [
    "# Connection to Andor\n",
    "HOST_andor='127.0.0.1'  #Andor Client C++ program \"camera_operate\"\n",
    "PORT_andor=27015\n",
    "s_andor=socket.socket(socket.AF_INET,socket.SOCK_STREAM)\n",
    "s_andor.bind((HOST_andor,PORT_andor))\n",
    "s_andor.listen(1)\n",
    "andor_conn, andor_address = s_andor.accept()\n",
    "print(\"Connection from: \" + str(andor_address))"
   ]
  },
  {
   "cell_type": "code",
   "execution_count": 121,
   "id": "bb1b453b",
   "metadata": {},
   "outputs": [
    {
     "name": "stdout",
     "output_type": "stream",
     "text": [
      "Andor Closed Successfully\n"
     ]
    }
   ],
   "source": [
    "flag=s_andor.close()\n",
    "if flag==None:\n",
    "    print(\"Andor Closed Successfully\")"
   ]
  },
  {
   "cell_type": "code",
   "execution_count": 4,
   "id": "6cec6cff",
   "metadata": {},
   "outputs": [
    {
     "name": "stdout",
     "output_type": "stream",
     "text": [
      "Connection from: ('127.0.0.1', 53249)\n"
     ]
    }
   ],
   "source": [
    "# Connection to power meter\n",
    "HOST_PM='127.0.0.1'  #Power meter Labview program\n",
    "PORT_PM=27020\n",
    "s_PM=socket.socket(socket.AF_INET,socket.SOCK_STREAM)\n",
    "s_PM.bind((HOST_PM,PORT_PM))\n",
    "s_PM.listen(1)\n",
    "PM_conn, PM_address = s_PM.accept()\n",
    "print(\"Connection from: \" + str(PM_address))"
   ]
  },
  {
   "cell_type": "code",
   "execution_count": 3,
   "id": "782c4220",
   "metadata": {
    "scrolled": true
   },
   "outputs": [
    {
     "name": "stdout",
     "output_type": "stream",
     "text": [
      "Socket Closed Successfully\n"
     ]
    }
   ],
   "source": [
    "flag=s_PM.close()\n",
    "if flag==None:\n",
    "    print(\"Socket Closed Successfully\")"
   ]
  },
  {
   "cell_type": "markdown",
   "id": "8ddf7da1",
   "metadata": {},
   "source": [
    "## NKT Function defs"
   ]
  },
  {
   "cell_type": "code",
   "execution_count": 3,
   "id": "62bb50a6",
   "metadata": {},
   "outputs": [],
   "source": [
    "def Extreme_turnON(comport, extreme, emissionpercent):\n",
    "    status=registerRead(comport,extreme,0x66,-1)\n",
    "    time.sleep(0.5)\n",
    "    if int.from_bytes(status[1], \"little\") & 0x01 == 0x00:\n",
    "        result = registerWriteU16(comport,extreme,0x31,0x01,-1)  #constant power mode\n",
    "        print('Setting constant power mode - Extreme:', RegisterResultTypes(result))\n",
    "        time.sleep(0.2)\n",
    "        \n",
    "        emission=emissionpercent*10\n",
    "        result = registerWriteU16(comport, extreme, 0x37, emission, -1)\n",
    "        print('Setting emission level - Extreme:', RegisterResultTypes(result))\n",
    "        time.sleep(0.2)\n",
    "        \n",
    "        result = registerWriteU8(comport, extreme, 0x30, 0x03, -1)\n",
    "        print('Setting emission ON - Extreme:', RegisterResultTypes(result))\n",
    "        time.sleep(0.5)\n",
    "        \n",
    "        \n",
    "def crystal_select(comport,RF_power,SuperK_select, crystal_num):\n",
    "    #crystal num: 0- vis/nir, 1- nir/ir\n",
    "    result = registerRead(comport,RF_power,0x75,-1)\n",
    "    time.sleep(0.2)\n",
    "    print(result)\n",
    "    if int.from_bytes(result[1], \"little\") != (crystal_num+1):\n",
    "        result = registerWriteU8(comport, RF_power, 0x30, 0x00, -1)\n",
    "        print(result)\n",
    "        time.sleep(0.2)\n",
    "        result = registerWriteU8(comport, SuperK_select, 0x34, 0x00, -1)\n",
    "        print(result)\n",
    "        time.sleep(0.2)\n",
    "        result = registerRead(comport,RF_power,0x75,-1)\n",
    "        time.sleep(0.2)\n",
    "        if int.from_bytes(result[1], \"little\") != (crystal_num+1):\n",
    "            result = registerWriteU8(comport, SuperK_select, 0x34, 0x01, -1)\n",
    "            print(result)\n",
    "            time.sleep(0.2)\n",
    "        result = registerWriteU8(comport, SuperK_select, 0x35, crystal_num, -1)\n",
    "        print(result)\n",
    "        time.sleep(0.2)\n",
    "        result = registerRead(comport,RF_power,0x75,-1)\n",
    "        time.sleep(0.2)\n",
    "        print(result)\n",
    "        \n",
    "def RF_turnON(comport,RF_power):\n",
    "    for i in range(8):\n",
    "        result=registerWriteU16(comport, RF_power, 0xB0+i,0,-1) #set all channel amplitude to 0\n",
    "        time.sleep(0.2)\n",
    "        print(result)\n",
    "    status=registerRead(comport,RF_power,0x66,-1)\n",
    "    if int.from_bytes(status[1], \"little\") & 0x01 == 0x00:\n",
    "        result = registerWriteU8(comport, RF_power, 0x30, 0x01, -1)\n",
    "        print('Turn RF Power ON:', RegisterResultTypes(result))\n",
    "        time.sleep(0.2)\n",
    "        \n",
    "def RF_turnOFF(comport,RF_power):\n",
    "    result = registerWriteU8(comport, RF_power, 0x30, 0x00, -1)\n",
    "    print('Turn off RF Power:', RegisterResultTypes(result))\n",
    "    time.sleep(0.2)\n",
    "    \n",
    "def Extreme_turnOFF(comport, extreme):\n",
    "    result = registerWriteU8(comport, extreme, 0x30, 0x00, -1)\n",
    "    print('Setting emission OFF - Extreme:', RegisterResultTypes(result))\n",
    "    time.sleep(0.2)"
   ]
  },
  {
   "cell_type": "code",
   "execution_count": 4,
   "id": "09317658",
   "metadata": {},
   "outputs": [],
   "source": [
    "def set_nkt(comport, RF_power,wavelength):\n",
    "    result = registerWriteU32(comport, RF_power, 0x90, wavelength, -1)\n",
    "    time.sleep(0.2)\n",
    "    return result\n",
    "# result=registerWriteU16('COM5', RF_power, 0xB0,1000,-1)\n",
    "# wl=int(670.5*1000)\n",
    "# result = set_nkt('COM5',RF_power,wl)\n",
    "# print(result)"
   ]
  },
  {
   "cell_type": "markdown",
   "id": "f40f2cd6",
   "metadata": {},
   "source": [
    "## <span style='color:blue'> *OSA Function defs* </span>"
   ]
  },
  {
   "cell_type": "code",
   "execution_count": 5,
   "id": "6fca4cdf",
   "metadata": {},
   "outputs": [],
   "source": [
    "def sock_send(sock,msg,receive=False,cond=None):\n",
    "    sock.send(msg.encode()+b\"\\r\\n\")\n",
    "    if receive:\n",
    "        if cond != None:\n",
    "            data = b'0'\n",
    "            while data.decode(\"utf-8\")[0] != cond:\n",
    "                sock.send(b\":stat:oper:even?\\r\\n\")\n",
    "                data = sock.recv(1024)\n",
    "\n",
    "                time.sleep(0.1)\n",
    "#             print(data)\n",
    "            return data\n",
    "        else:\n",
    "            data = sock.recv(1024)\n",
    "#             print(data)\n",
    "            return data\n",
    "    return None\n",
    "\n",
    "def sock_send_arr(sock,msg_list,receive=False):\n",
    "    ret = []\n",
    "    for msg in msg_list:\n",
    "        ret += [sock_send(sock,msg,receive)]\n",
    "    return ret\n",
    "\n",
    "def querry_data(sock,msg):\n",
    "    sock.send(msg.encode()+b\"\\r\\n\")  \n",
    "    strData2=b\"\"\n",
    "    i=0\n",
    "    while True:\n",
    "#         print(f\"iter{i}\")\n",
    "        i=i+1\n",
    "        strData2=sock.recv(1024)\n",
    "#         print(strData2)\n",
    "        if strData2.decode(\"utf-8\")[0]==\"+\":\n",
    "            break  \n",
    "    return strData2.decode(\"utf-8\")"
   ]
  },
  {
   "cell_type": "markdown",
   "id": "b5a59cd2",
   "metadata": {},
   "source": [
    "## <span style='color:blue'> *OSA User Inputs- please match with Mono/Trestles OSA settings* </span>"
   ]
  },
  {
   "cell_type": "code",
   "execution_count": 6,
   "id": "f21b4560",
   "metadata": {},
   "outputs": [],
   "source": [
    "#**********remember to move ALL FILES (IMAGE, OSA,filelog) before switching crystal\n",
    "\n",
    "###for VIS- remember to switch crystal !!\n",
    "\"\"\"\n",
    "start_WL=540.0  #OSA window start\n",
    "stop_WL=660.0  #OSA window end-endpoint not executed\n",
    "RLevel_nW=800.0\n",
    "Resln=0.2\n",
    "# Spn=50\n",
    "Sampling_interval= 0.04\n",
    "Average_times=1\n",
    "\n",
    "sensitivity=\"high1\"  #Options- norm, mid, high1,2,3. generally use high1\n",
    "smoothing=\"OFF\"\n",
    "\"\"\"\n",
    "\n",
    "##using zoe's OSA settings on her setup\n",
    "start_WL=565.0  #OSA window start\n",
    "stop_WL=677.0  #OSA window end-endpoint not executed\n",
    "RLevel_nW= 800.0\n",
    "Resln=0.5\n",
    "Sampling_interval= 0.1\n",
    "Average_times=1\n",
    "\n",
    "sensitivity=\"high1\"  #Options- norm, mid, high1,2,3. generally use high1\n",
    "smoothing=\"OFF\"\n"
   ]
  },
  {
   "cell_type": "markdown",
   "id": "3084f4d3",
   "metadata": {},
   "source": [
    "## NKT User Inputs"
   ]
  },
  {
   "cell_type": "code",
   "execution_count": 9,
   "id": "2425d3cc",
   "metadata": {},
   "outputs": [
    {
     "name": "stdout",
     "output_type": "stream",
     "text": [
      "10\n",
      "[570. 570. 570. 570. 570. 570. 570. 570. 570. 570.]\n"
     ]
    }
   ],
   "source": [
    "iters=10\n",
    "start_wl=570.0\n",
    "stop_wl=571.0 #end point not executed\n",
    "step_wl=1.0\n",
    "\n",
    "\n",
    "wl_list_unique=np.arange(start_wl,stop_wl,step_wl)\n",
    "wl_list=[]\n",
    "if iters>1:\n",
    "    for i in range(iters):\n",
    "        wl_list=np.concatenate((wl_list, wl_list_unique),axis=-1)\n",
    "else:\n",
    "    wl_list=wl_list_unique\n",
    "    \n",
    "print(len(wl_list))\n",
    "\n",
    "print(wl_list)\n",
    "\n",
    "filename='NKTselect_peaks_summary.csv'\n",
    "\n",
    "comport= 'COM4'"
   ]
  },
  {
   "cell_type": "markdown",
   "id": "a653ee48",
   "metadata": {},
   "source": [
    "## Execution starts here"
   ]
  },
  {
   "cell_type": "markdown",
   "id": "5c744c9f",
   "metadata": {},
   "source": [
    "#### Extreme Turn ON"
   ]
  },
  {
   "cell_type": "code",
   "execution_count": 7,
   "id": "194db36e",
   "metadata": {},
   "outputs": [],
   "source": [
    "##always double check the PORT! It keeps changing\n",
    "comport= 'COM4'\n",
    "\n",
    "Extreme_turnON(comport,extreme,100)"
   ]
  },
  {
   "cell_type": "markdown",
   "id": "90e517fe",
   "metadata": {},
   "source": [
    "#### Crystal select"
   ]
  },
  {
   "cell_type": "code",
   "execution_count": 8,
   "id": "0dd9bbbd",
   "metadata": {},
   "outputs": [
    {
     "name": "stdout",
     "output_type": "stream",
     "text": [
      "(0, b'\\x01')\n"
     ]
    }
   ],
   "source": [
    "crystal_num=0 #0- vis/nir, 1- nir/ir\n",
    "crystal_select(comport,RF_power,SuperK_select,crystal_num) "
   ]
  },
  {
   "cell_type": "markdown",
   "id": "5a23cd48",
   "metadata": {},
   "source": [
    "#### RF power Turn ON"
   ]
  },
  {
   "cell_type": "code",
   "execution_count": 9,
   "id": "f3af3a68",
   "metadata": {},
   "outputs": [
    {
     "name": "stdout",
     "output_type": "stream",
     "text": [
      "0\n",
      "0\n",
      "0\n",
      "0\n",
      "0\n",
      "0\n",
      "0\n",
      "0\n"
     ]
    }
   ],
   "source": [
    "RF_turnON(comport,RF_power)"
   ]
  },
  {
   "cell_type": "markdown",
   "id": "655c7ee3",
   "metadata": {},
   "source": [
    "## <span style='color:red'>Main Loop (if no OSA) </span>"
   ]
  },
  {
   "cell_type": "code",
   "execution_count": null,
   "id": "f9ed72ad",
   "metadata": {},
   "outputs": [],
   "source": [
    "for i,wl in enumerate(wl_list):\n",
    "    if i==0:\n",
    "        result=registerWriteU16('COM5', RF_power, 0xB0,1000,-1)\n",
    "#       print(RegisterResultTypes(result))\n",
    "        if result!=0:\n",
    "            print(\"Failed to set channel amplitude!!!\")\n",
    "            break\n",
    "    wl_int=int(wl*1000)\n",
    "    result = set_nkt('COM5',RF_power,wl_int)\n",
    "    if result==0:\n",
    "        print(f\"wavelengthl --> {wl} nm\") \n",
    "#     result = registerRead('COM5',RF_power,0x66,-1)\n",
    "#     print(result)\n",
    "        \n",
    "    time.sleep(1)\n"
   ]
  },
  {
   "cell_type": "markdown",
   "id": "3ac535b6",
   "metadata": {},
   "source": [
    "## NKT User Inputs"
   ]
  },
  {
   "cell_type": "code",
   "execution_count": 115,
   "id": "b8f07eb8",
   "metadata": {},
   "outputs": [
    {
     "name": "stdout",
     "output_type": "stream",
     "text": [
      "WL set\n"
     ]
    }
   ],
   "source": [
    "wl=600.0\n",
    "#setting NKTSelect WL\n",
    "result=registerWriteU16(comport, RF_power, 0xB0,1000,-1)\n",
    "# print(RegisterResultTypes(result))\n",
    "if result!=0:\n",
    "    print(\"Failed to set channel amplitude!!!\")\n",
    "else:\n",
    "    wl_int=int(wl*1000)\n",
    "    result = set_nkt(comport,RF_power,wl_int)\n",
    "    if result!=0:\n",
    "        print(\"Failed to set wavelength!!!\")\n",
    "    else:\n",
    "        print(\"WL set\")"
   ]
  },
  {
   "cell_type": "code",
   "execution_count": 116,
   "id": "b1154dcc",
   "metadata": {},
   "outputs": [
    {
     "name": "stdout",
     "output_type": "stream",
     "text": [
      "10\n",
      "[600. 600. 600. 600. 600. 600. 600. 600. 600. 600.]\n"
     ]
    }
   ],
   "source": [
    "iters=10\n",
    "start_wl=600.0  #increment by 2 nm\n",
    "stop_wl=601.0 #end point not executed\n",
    "step_wl=1.0\n",
    "\n",
    "\n",
    "wl_list_unique=np.arange(start_wl,stop_wl,step_wl)\n",
    "wl_list=[]\n",
    "if iters>1:\n",
    "    for i in range(iters):\n",
    "        wl_list=np.concatenate((wl_list, wl_list_unique),axis=-1)\n",
    "else:\n",
    "    wl_list=wl_list_unique\n",
    "    \n",
    "print(len(wl_list))\n",
    "\n",
    "print(wl_list)\n",
    "\n",
    "filename='NKTselect_peaks_summary.csv'\n",
    "\n",
    "comport= 'COM4'"
   ]
  },
  {
   "cell_type": "code",
   "execution_count": 117,
   "id": "526024ee",
   "metadata": {},
   "outputs": [
    {
     "name": "stdout",
     "output_type": "stream",
     "text": [
      "Connection from: ('127.0.0.1', 57321)\n"
     ]
    }
   ],
   "source": [
    "# Connection to Andor\n",
    "HOST_andor='127.0.0.1'  #Andor Client C++ program \"camera_operate\"\n",
    "PORT_andor=27015\n",
    "s_andor=socket.socket(socket.AF_INET,socket.SOCK_STREAM)\n",
    "s_andor.bind((HOST_andor,PORT_andor))\n",
    "s_andor.listen(1)\n",
    "andor_conn, andor_address = s_andor.accept()\n",
    "print(\"Connection from: \" + str(andor_address))"
   ]
  },
  {
   "cell_type": "markdown",
   "id": "9e11be71",
   "metadata": {},
   "source": [
    "## <span style='color:blue'><span style='background :yellow' >*Main Loop (if OSA)* </span>"
   ]
  },
  {
   "cell_type": "code",
   "execution_count": 118,
   "id": "2254b77a",
   "metadata": {},
   "outputs": [
    {
     "name": "stdout",
     "output_type": "stream",
     "text": [
      "OSA connected\n",
      "wavelengthl --> 600.0 nm\n",
      "andor ok\n",
      "peak=599.5\n",
      "wavelengthl --> 600.0 nm\n",
      "andor ok\n",
      "peak=599.5\n",
      "wavelengthl --> 600.0 nm\n",
      "andor ok\n",
      "peak=599.5\n",
      "wavelengthl --> 600.0 nm\n",
      "andor ok\n",
      "peak=599.5\n",
      "wavelengthl --> 600.0 nm\n",
      "andor ok\n",
      "peak=599.5\n",
      "wavelengthl --> 600.0 nm\n",
      "andor ok\n",
      "peak=599.5\n",
      "wavelengthl --> 600.0 nm\n",
      "andor ok\n",
      "peak=599.5\n",
      "wavelengthl --> 600.0 nm\n",
      "andor ok\n",
      "peak=599.5\n",
      "wavelengthl --> 600.0 nm\n",
      "andor ok\n",
      "peak=599.5\n",
      "wavelengthl --> 600.0 nm\n",
      "andor ok\n",
      "peak=599.5\n",
      "OSA Socket Closed Successfully\n"
     ]
    }
   ],
   "source": [
    "fields=['index','setpoint','peakX','peakY','centerWL','widthFWHM']\n",
    "\n",
    "#Connect to OSA\n",
    "HOST = '192.168.0.1'    # The remote server (OSA)\n",
    "PORT = 10001              # The same port as used by the server (OSA)\n",
    "s= socket.socket(socket.AF_INET, socket.SOCK_STREAM)\n",
    "s.connect((HOST, PORT))    \n",
    "print(\"OSA connected\")\n",
    "data = sock_send_arr(s,[\"open \\\"anonymous\\\"\", \" \"],receive=True)\n",
    "\n",
    "OSA_data={}\n",
    "for i,wl in enumerate(wl_list):\n",
    "    if i==0:\n",
    "        result=registerWriteU16(comport, RF_power, 0xB0,1000,-1)\n",
    "        if result!=0:\n",
    "            print(\"Failed to set channel amplitude!!!\")\n",
    "            break\n",
    "    wl_int=int(wl*1000)\n",
    "    result = set_nkt(comport,RF_power,wl_int)\n",
    "    if result==0:\n",
    "        \n",
    "        #  andor send goes here\n",
    "        flag_andor=andor_conn.send(b\"go\")\n",
    "        \n",
    "        \n",
    "        print(f\"wavelengthl --> {wl} nm\") \n",
    "        data = sock_send_arr(s,[\"*RST\",\"CFORM1\",f\":sens:wav:star {start_WL}nm\",f\":sens:wav:stop {stop_WL}nm\"])\n",
    "        data=sock_send_arr(s,[\"CFORM1\",f\":sens:band:res {Resln}nm\",f\":sens:sens {sensitivity}\"])\n",
    "        data=sock_send_arr(s,[f\":sens:sett:smo {smoothing}\",\\\n",
    "                                \":sens:sweep:points:auto off\",f\":sens:sweep:step {Sampling_interval}nm\",\\\n",
    "                              \":sens:corr:rvel:med air\"])\n",
    "        data=sock_send_arr(s,[f\":sens:aver:coun {Average_times}\",\":sens:chop OFF\"])\n",
    "        data=sock_send_arr(s,[\":DISPLAY:TRACE:Y1:SPACING LIN\",f\":DISPLAY:TRACE:Y1:RLEVEL {RLevel_nW}nW\"])\n",
    "        OSA_data['index']=i\n",
    "        OSA_data['setpoint']=wl\n",
    "        data = sock_send_arr(s,[\":init:smode 1\",\"*CLS\",\":init\"])\n",
    "        data = sock_send(s,\":stat:oper:even?\",receive=True,cond='1')\n",
    "        data = sock_send_arr(s,[\"CFORM1\",\":mmem:cdr int\"])\n",
    "        \n",
    "        \n",
    "        #wait for andor\n",
    "        msg_andor=andor_conn.recv(1024)\n",
    "        if msg_andor.rstrip(b'\\x00').decode(\"utf-8\")==\"abc\": \n",
    "            #sending save signal to OSA\n",
    "            print('andor ok')    \n",
    "        else:\n",
    "            print('PROBLEM IN ANDOR!!')\n",
    "            break\n",
    "                \n",
    "        data = sock_send(s,f\":mmem:stor:trac tra,csv,\\\"trace_wl_{wl}_iter_{i}\\\",int\",receive=True)\n",
    "        \n",
    "        ##calculate peak WL\n",
    "        data=sock_send(s,\":calc:mark:max\")\n",
    "        data_peakx=querry_data(s,\":calc:mark:x? 0\")        \n",
    "        OSA_data['peakX']=float(data_peakx)*1e9\n",
    "        print(f\"peak={float(data_peakx)*1e9}\")\n",
    "        data_peaky=querry_data(s,\":calc:mark:y? 0\")\n",
    "        OSA_data['peakY']=float(data_peaky)*1e9\n",
    "        \n",
    "        #calculate 3dB BW\n",
    "        data=sock_send_arr(s,[\":calc:cat swth\"])\n",
    "        data=sock_send_arr(s,[\":calc:par:cat:swth:TH 3.0\"])\n",
    "        data=sock_send(s,\":calc\")\n",
    "        str_thresh=querry_data(s,\":calc:data?\")\n",
    "        data_thresh=str_thresh.split(',')\n",
    "        OSA_data['centerWL']=float(data_thresh[0])*1e9\n",
    "        OSA_data['widthFWHM']=float(data_thresh[1])*1e9\n",
    "        \n",
    "        if i==0:\n",
    "            with open(filename, 'a',newline='') as csvfile:\n",
    "                writer = csv.DictWriter(csvfile, fieldnames = fields) \n",
    "                writer.writeheader() \n",
    "                \n",
    "        with open(filename, 'a',newline='') as csvfile: \n",
    "    # creating a csv dict writer object \n",
    "            writer = csv.DictWriter(csvfile, fieldnames = fields) \n",
    "            writer.writerow(OSA_data) \n",
    "        time.sleep(1)\n",
    "    else:\n",
    "        print(f\"Failed to change wavelength at {wl}\")\n",
    "        break\n",
    "    \n",
    "flag=s.close()\n",
    "##################if andor is ON, remember to close socket from above\n",
    "flag_andor=s_andor.close()\n",
    "if flag==None:\n",
    "    print(\"OSA Socket Closed Successfully\")"
   ]
  },
  {
   "cell_type": "code",
   "execution_count": 17,
   "id": "2ba75f41",
   "metadata": {},
   "outputs": [
    {
     "name": "stdout",
     "output_type": "stream",
     "text": [
      "OSA Socket Closed Successfully\n"
     ]
    }
   ],
   "source": [
    "if flag==None:\n",
    "    print(\"OSA Socket Closed Successfully\")"
   ]
  },
  {
   "cell_type": "markdown",
   "id": "a8e315f6",
   "metadata": {},
   "source": [
    "<span style='color:brown'> <b> Single snap <b> </span> "
   ]
  },
  {
   "cell_type": "markdown",
   "id": "71a9d332",
   "metadata": {},
   "source": [
    "## <span style='color:red'> TEST IMAGE"
   ]
  },
  {
   "cell_type": "code",
   "execution_count": 12,
   "id": "f2a96edb",
   "metadata": {},
   "outputs": [],
   "source": [
    "##Run only once\n",
    "\n",
    "fieldstest = [\\\n",
    "              'NKT_peakX','NKT_setpoint','img_filename' ]\n",
    "filenametest = \"NKTselect_Option3_filelog.csv\"\n",
    "# with open(filenametest, 'w',newline='') as csvfile:\n",
    "#     writer = csv.DictWriter(csvfile, fieldnames = fieldstest) \n",
    "#     writer.writeheader() \n",
    "\n",
    "\n",
    "\n",
    "def msgpadding(max_len,msg_list):   \n",
    "    msg_str=''\n",
    "    msg_len=0\n",
    "    for s in msg_list:\n",
    "        msg_str+=s\n",
    "    \n",
    "    msg_len=len(msg_str.encode())\n",
    "    if msg_len<max_len:\n",
    "        msg_pad=msg_str.zfill(max_len)\n",
    "    else:\n",
    "        msg_pad=msg_str\n",
    "    return msg_pad\n",
    "\n"
   ]
  },
  {
   "cell_type": "code",
   "execution_count": 13,
   "id": "80eb4b62",
   "metadata": {},
   "outputs": [],
   "source": [
    "#Run only in the beginning of each test set \n",
    "\n",
    "end_msg=\"endd,\"\n",
    "\n",
    "#don't change below\n",
    "#assuming PM receives 9 bytes. Otherwise change iter_size\n",
    "max_len=9\n",
    "imag_size=2\n",
    "iterr=0\n",
    "iter_size=1"
   ]
  },
  {
   "cell_type": "code",
   "execution_count": 119,
   "id": "a96d3600",
   "metadata": {},
   "outputs": [
    {
     "name": "stdout",
     "output_type": "stream",
     "text": [
      "Connection from: ('127.0.0.1', 57359)\n"
     ]
    }
   ],
   "source": [
    "# Connection to Andor\n",
    "HOST_andor='127.0.0.1'  #Andor Client C++ program \"camera_operate\"\n",
    "PORT_andor=27015\n",
    "s_andor=socket.socket(socket.AF_INET,socket.SOCK_STREAM)\n",
    "s_andor.bind((HOST_andor,PORT_andor))\n",
    "s_andor.listen(1)\n",
    "andor_conn, andor_address = s_andor.accept()\n",
    "print(\"Connection from: \" + str(andor_address))"
   ]
  },
  {
   "cell_type": "code",
   "execution_count": 130,
   "id": "abab95c1",
   "metadata": {},
   "outputs": [],
   "source": [
    "wl=  600  ###this will set the wavelegnth number\n",
    "imagg= 3 ##this will decide the test image number,check from_andor_script for current image number"
   ]
  },
  {
   "cell_type": "code",
   "execution_count": 131,
   "id": "08f48d5d",
   "metadata": {},
   "outputs": [
    {
     "name": "stdout",
     "output_type": "stream",
     "text": [
      "OSA connected\n"
     ]
    }
   ],
   "source": [
    "#Connect to OSA\n",
    "HOST = '192.168.0.1'    # The remote server (OSA)\n",
    "PORT = 10001              # The same port as used by the server (OSA)\n",
    "s= socket.socket(socket.AF_INET, socket.SOCK_STREAM)\n",
    "s.connect((HOST, PORT))    \n",
    "print(\"OSA connected\")\n",
    "data = sock_send_arr(s,[\"open \\\"anonymous\\\"\", \" \"],receive=True)\n"
   ]
  },
  {
   "cell_type": "code",
   "execution_count": 132,
   "id": "7cd2f552",
   "metadata": {},
   "outputs": [
    {
     "name": "stdout",
     "output_type": "stream",
     "text": [
      "MAKE SURE TO CHANGE imagg !!!y\n",
      "andor ok\n",
      "NKTSetpoint --> 600 nm, peakX=599.5\n",
      "imgpow_taken\n"
     ]
    }
   ],
   "source": [
    "nm=input(\"MAKE SURE TO CHANGE imagg !!!\")\n",
    "#  sending go to andor\n",
    "flag_andor=andor_conn.send(b\"go\")\n",
    "\n",
    "# sending go to PM       \n",
    "# msg=msgpadding(max_len,str(round(wl,1))).encode()\n",
    "# signal_PM=PM_conn.send(msg)\n",
    "\n",
    "#sending go to OSA\n",
    "test_OSA_data={}\n",
    "\n",
    "data = sock_send_arr(s,[\"*RST\",\"CFORM1\",f\":sens:wav:star {start_WL}nm\",f\":sens:wav:stop {stop_WL}nm\"])\n",
    "data=sock_send_arr(s,[\"CFORM1\",f\":sens:band:res {Resln}nm\",f\":sens:sens {sensitivity}\"])\n",
    "data=sock_send_arr(s,[f\":sens:sett:smo {smoothing}\",\\\n",
    "                                \":sens:sweep:points:auto off\",f\":sens:sweep:step {Sampling_interval}nm\",\\\n",
    "                              \":sens:corr:rvel:med air\"])\n",
    "data=sock_send_arr(s,[f\":sens:aver:coun {Average_times}\",\":sens:chop OFF\"])\n",
    "\n",
    "#**********must check if RLevel looks good enough********\n",
    "data=sock_send_arr(s,[\":DISPLAY:TRACE:Y1:SPACING LIN\",f\":DISPLAY:TRACE:Y1:RLEVEL {RLevel_nW}nW\"])\n",
    "data = sock_send_arr(s,[\":init:smode 1\",\"*CLS\",\":init\"])\n",
    "data = sock_send(s,\":stat:oper:even?\",receive=True,cond='1')\n",
    "data = sock_send_arr(s,[\"CFORM1\",\":mmem:cdr int\"])\n",
    "# data = sock_send(s,f\":mmem:stor:trac tra,csv,\\\"test_{imagg}\\\",int\",receive=True)\n",
    "\n",
    "\n",
    "# primary msg padding for PM, has to be 10bytes total\n",
    "itr=msgpadding(iter_size,str(iterr))\n",
    "imag=msgpadding(imag_size,str(imagg))\n",
    "\n",
    "msg_andor=andor_conn.recv(1024)\n",
    "\n",
    "\n",
    "if msg_andor.rstrip(b'\\x00').decode(\"utf-8\")==\"abc\": \n",
    "    #sending save signal to OSA\n",
    "    print('andor ok')\n",
    "    data = sock_send(s,f\":mmem:stor:trac tra,csv,\\\"test_wl_{wl}_idx_{imagg}\\\",int\",receive=True)\n",
    "    \n",
    "    ##calculate peak WL\n",
    "    data=sock_send(s,\":calc:mark:max\")\n",
    "    data_peakx=querry_data(s,\":calc:mark:x? 0\")        \n",
    "    test_OSA_data['peakX']=float(data_peakx)*1e9\n",
    "    print(f\"NKTSetpoint --> {wl} nm, peakX={float(data_peakx)*1e9}\")\n",
    "    data_peaky=querry_data(s,\":calc:mark:y? 0\")\n",
    "    test_OSA_data['peakY']=float(data_peaky)*1e9\n",
    "\n",
    "    #calculate 3dB BW\n",
    "    data=sock_send_arr(s,[\":calc:cat swth\"])\n",
    "    data=sock_send_arr(s,[\":calc:par:cat:swth:TH 3.0\"])\n",
    "    data=sock_send(s,\":calc\")\n",
    "    str_thresh=querry_data(s,\":calc:data?\")\n",
    "    data_thresh=str_thresh.split(',')\n",
    "    test_OSA_data['centerWL']=float(data_thresh[0])*1e9\n",
    "    test_OSA_data['widthFWHM']=float(data_thresh[1])*1e9\n",
    "    \n",
    "\n",
    "    with open(filenametest, 'a',newline='') as csvfile:\n",
    "        writer = csv.writer(csvfile) \n",
    "        writer.writerow([\\\n",
    "                         test_OSA_data['peakX'],wl,\\\n",
    "                         f\"iter_{itr}_image_{imag}\"]) \n",
    "        print(\"imgpow_taken\")\n",
    "#     else:\n",
    "#         print(\"POWER METER PROBLEM !\")\n",
    "else:\n",
    "    print(\"NO SIGNAL FROM ANDOR !\")\n",
    "    \n",
    "# nm=input(\"Press shutdown in Labview, then y in python\")"
   ]
  },
  {
   "cell_type": "code",
   "execution_count": 587,
   "id": "dfa7151d",
   "metadata": {},
   "outputs": [
    {
     "name": "stdout",
     "output_type": "stream",
     "text": [
      "Andor Closed Successfully\n"
     ]
    }
   ],
   "source": [
    "flag=s_andor.close()\n",
    "if flag==None:\n",
    "    print(\"Andor Closed Successfully\")"
   ]
  },
  {
   "cell_type": "markdown",
   "id": "27ca2fa4",
   "metadata": {},
   "source": [
    "#### RF power Turn OFF"
   ]
  },
  {
   "cell_type": "code",
   "execution_count": 27,
   "id": "ad3acd8c",
   "metadata": {},
   "outputs": [
    {
     "name": "stdout",
     "output_type": "stream",
     "text": [
      "Turn off RF Power: 0:RegResultSuccess\n"
     ]
    }
   ],
   "source": [
    "RF_turnOFF(comport,RF_power)"
   ]
  },
  {
   "cell_type": "markdown",
   "id": "29eb2335",
   "metadata": {},
   "source": [
    "#### Extreme Turn OFF"
   ]
  },
  {
   "cell_type": "code",
   "execution_count": 28,
   "id": "13e126c7",
   "metadata": {},
   "outputs": [
    {
     "name": "stdout",
     "output_type": "stream",
     "text": [
      "Setting emission OFF - Extreme: 0:RegResultSuccess\n"
     ]
    }
   ],
   "source": [
    "Extreme_turnOFF(comport, extreme)"
   ]
  },
  {
   "cell_type": "code",
   "execution_count": 39,
   "id": "5bd107cc",
   "metadata": {},
   "outputs": [
    {
     "name": "stdout",
     "output_type": "stream",
     "text": [
      "(0, 670000)\n",
      "(0, 430000)\n"
     ]
    }
   ],
   "source": [
    "max_wl=registerReadU32(comport, RF_power, 0x35,-1)\n",
    "print(max_wl)\n",
    "min_wl=registerReadU32(comport, RF_power, 0x34,-1)\n",
    "print(min_wl)"
   ]
  },
  {
   "cell_type": "markdown",
   "id": "42847a72",
   "metadata": {},
   "source": [
    "## <span style='color:red'> Option 5: </span> dummy host for ANDOR"
   ]
  },
  {
   "cell_type": "code",
   "execution_count": 168,
   "id": "c7fcb26a",
   "metadata": {},
   "outputs": [
    {
     "name": "stdout",
     "output_type": "stream",
     "text": [
      "Connection from: ('127.0.0.1', 57309)\n"
     ]
    }
   ],
   "source": [
    "# Connection to Andor\n",
    "HOST_andor='127.0.0.1'  #Andor Client C++ program \"camera_operate\"\n",
    "PORT_andor=27015\n",
    "s_andor=socket.socket(socket.AF_INET,socket.SOCK_STREAM)\n",
    "s_andor.bind((HOST_andor,PORT_andor))\n",
    "s_andor.listen(1)\n",
    "andor_conn, andor_address = s_andor.accept()\n",
    "print(\"Connection from: \" + str(andor_address))"
   ]
  },
  {
   "cell_type": "code",
   "execution_count": 169,
   "id": "327aad69",
   "metadata": {},
   "outputs": [
    {
     "name": "stdout",
     "output_type": "stream",
     "text": [
      "andor ok, done-> 0\n",
      "andor ok, done-> 1\n",
      "andor ok, done-> 2\n",
      "finished!!!\n"
     ]
    }
   ],
   "source": [
    "N=3\n",
    "\n",
    "for i in range (N):\n",
    "#  sending go to andor\n",
    "    flag_andor=andor_conn.send(b\"go\")\n",
    "    msg_andor=andor_conn.recv(1024)\n",
    "    if msg_andor.rstrip(b'\\x00').decode(\"utf-8\")==\"abc\": \n",
    "        print(f'andor ok, done-> {i}')\n",
    "        time.sleep(0.5)\n",
    "        \n",
    "print(\"finished!!!\")\n",
    "\n"
   ]
  },
  {
   "cell_type": "markdown",
   "id": "b86ac3bd",
   "metadata": {},
   "source": [
    "## <span style='color:red'> Option 6: </span> dummy host for OSA only"
   ]
  },
  {
   "cell_type": "code",
   "execution_count": 72,
   "id": "1b52cfcd",
   "metadata": {},
   "outputs": [],
   "source": [
    "###OSA settings\n",
    "\n",
    "# ##for vis\n",
    "# start_WL=645.0  #OSA window start\n",
    "# stop_WL=677.0  #OSA window end\n",
    "# RLevel_nW=10\n",
    "\n",
    "# ##overall\n",
    "# start_WL=600.0  #OSA window start\n",
    "# stop_WL=1000.0  #OSA window end\n",
    "# RLevel_nW=10\n",
    "\n",
    "\n",
    "##for nir\n",
    "start_WL=740.0  #OSA window start\n",
    "stop_WL=812.0  #OSA window end\n",
    "RLevel_nW=10\n",
    "\n",
    "\n",
    "Resln=1.0\n",
    "Sampling_interval= 0.2\n",
    "Average_times=1\n",
    "Spn=50\n",
    "\n",
    "sensitivity=\"high2\"  #Options- norm, mid, high1,2,3. generally use high1\n",
    "smoothing=\"OFF\""
   ]
  },
  {
   "cell_type": "code",
   "execution_count": 74,
   "id": "36037aa5",
   "metadata": {},
   "outputs": [
    {
     "name": "stdout",
     "output_type": "stream",
     "text": [
      "OSA connected\n"
     ]
    }
   ],
   "source": [
    "#Connect to OSA\n",
    "HOST = '192.168.0.1'    # The remote server (OSA)\n",
    "PORT = 10001              # The same port as used by the server (OSA)\n",
    "s= socket.socket(socket.AF_INET, socket.SOCK_STREAM)\n",
    "s.connect((HOST, PORT))    \n",
    "print(\"OSA connected\")\n",
    "data = sock_send_arr(s,[\"open \\\"anonymous\\\"\", \" \"],receive=True)\n"
   ]
  },
  {
   "cell_type": "code",
   "execution_count": 75,
   "id": "17f8de4e",
   "metadata": {},
   "outputs": [],
   "source": [
    "start_index=31\n",
    "N_traces=3"
   ]
  },
  {
   "cell_type": "code",
   "execution_count": 76,
   "id": "6a14f953",
   "metadata": {},
   "outputs": [
    {
     "name": "stdout",
     "output_type": "stream",
     "text": [
      "running --> test31\n",
      "running --> test32\n",
      "running --> test33\n",
      "OSA Socket Closed Successfully\n"
     ]
    }
   ],
   "source": [
    "for i in range(start_index,start_index+N_traces ):\n",
    "    print(f\"running --> test{i}\") \n",
    "    data = sock_send_arr(s,[\"*RST\",\"CFORM1\",f\":sens:wav:star {start_WL}nm\",f\":sens:wav:stop {stop_WL}nm\"])\n",
    "    data=sock_send_arr(s,[\"CFORM1\",f\":sens:band:res {Resln}nm\",f\":sens:sens {sensitivity}\"])\n",
    "    data=sock_send_arr(s,[f\":sens:sett:smo {smoothing}\",\\\n",
    "                            \":sens:sweep:points:auto off\",f\":sens:sweep:step {Sampling_interval}nm\",\\\n",
    "                          \":sens:corr:rvel:med air\"])\n",
    "    data=sock_send_arr(s,[f\":sens:aver:coun {Average_times}\",\":sens:chop OFF\"])\n",
    "    data=sock_send_arr(s,[\":DISPLAY:TRACE:Y1:SPACING LIN\",f\":DISPLAY:TRACE:Y1:RLEVEL {RLevel_nW}nW\"])\n",
    "#     OSA_data['index']=i\n",
    "#     OSA_data['setpoint']=wl\n",
    "    data = sock_send_arr(s,[\":init:smode 1\",\"*CLS\",\":init\"])\n",
    "    data = sock_send(s,\":stat:oper:even?\",receive=True,cond='1')\n",
    "    data = sock_send_arr(s,[\"CFORM1\",\":mmem:cdr int\"])             \n",
    "    data = sock_send(s,f\":mmem:stor:trac tra,csv,\\\"test_{i}\\\",int\",receive=True)\n",
    "        \n",
    "    \n",
    "flag=s.close()\n",
    "if flag==None:\n",
    "    print(\"OSA Socket Closed Successfully\")"
   ]
  }
 ],
 "metadata": {
  "kernelspec": {
   "display_name": "Python 3 (ipykernel)",
   "language": "python",
   "name": "python3"
  },
  "language_info": {
   "codemirror_mode": {
    "name": "ipython",
    "version": 3
   },
   "file_extension": ".py",
   "mimetype": "text/x-python",
   "name": "python",
   "nbconvert_exporter": "python",
   "pygments_lexer": "ipython3",
   "version": "3.9.7"
  }
 },
 "nbformat": 4,
 "nbformat_minor": 5
}
