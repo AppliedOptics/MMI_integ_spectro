{
 "cells": [
  {
   "cell_type": "code",
   "execution_count": 7,
   "id": "c436078e",
   "metadata": {},
   "outputs": [],
   "source": [
    "import socket\n",
    "import time\n",
    "import csv\n",
    "import numpy as np\n",
    "import pandas as pd\n",
    "from IPython import display\n",
    "from matplotlib.axis import Axis\n",
    "import matplotlib.pyplot as plt \n"
   ]
  },
  {
   "cell_type": "code",
   "execution_count": 8,
   "id": "28358695",
   "metadata": {},
   "outputs": [],
   "source": [
    "images_no=25\n",
    "t_interval_sec=10"
   ]
  },
  {
   "cell_type": "code",
   "execution_count": 9,
   "id": "39a21415",
   "metadata": {},
   "outputs": [
    {
     "name": "stdout",
     "output_type": "stream",
     "text": [
      "Connection from: ('127.0.0.1', 51856)\n"
     ]
    }
   ],
   "source": [
    "# Connection to Andor\n",
    "##Andor addresses- DON'T CHANGE THE NEXT TWO LINES\n",
    "HOST_andor='127.0.0.1'  #Andor Client C++ program \"camera_operate\"\n",
    "PORT_andor=27015\n",
    "\n",
    "s_andor=socket.socket(socket.AF_INET,socket.SOCK_STREAM)\n",
    "s_andor.bind((HOST_andor,PORT_andor))\n",
    "s_andor.listen(1)\n",
    "andor_conn, andor_address = s_andor.accept()\n",
    "print(\"Connection from: \" + str(andor_address))"
   ]
  },
  {
   "cell_type": "code",
   "execution_count": 10,
   "id": "28406b1c",
   "metadata": {},
   "outputs": [],
   "source": [
    "#Create Andor image timestamp log- this will earse old data\n",
    "fields = ['image','time']\n",
    "filename = \"Temp_image_log.csv\"\n",
    "with open(filename, 'w',newline='') as csvfile:\n",
    "    writer = csv.DictWriter(csvfile, fieldnames = fields) \n",
    "    writer.writeheader() "
   ]
  },
  {
   "cell_type": "code",
   "execution_count": 11,
   "id": "f94eda54",
   "metadata": {},
   "outputs": [
    {
     "name": "stdout",
     "output_type": "stream",
     "text": [
      "2023/03/08_12:33:35\n",
      "image0 done\n",
      "2023/03/08_12:33:49\n",
      "image1 done\n",
      "2023/03/08_12:34:02\n",
      "image2 done\n",
      "2023/03/08_12:34:14\n",
      "image3 done\n",
      "2023/03/08_12:34:27\n",
      "image4 done\n",
      "2023/03/08_12:34:39\n",
      "image5 done\n",
      "2023/03/08_12:34:51\n",
      "image6 done\n",
      "2023/03/08_12:35:04\n",
      "image7 done\n",
      "2023/03/08_12:35:16\n",
      "image8 done\n",
      "2023/03/08_12:35:29\n",
      "image9 done\n",
      "2023/03/08_12:35:41\n",
      "image10 done\n"
     ]
    },
    {
     "ename": "KeyboardInterrupt",
     "evalue": "",
     "output_type": "error",
     "traceback": [
      "\u001b[1;31m---------------------------------------------------------------------------\u001b[0m",
      "\u001b[1;31mKeyboardInterrupt\u001b[0m                         Traceback (most recent call last)",
      "\u001b[1;32m~\\AppData\\Local\\Temp/ipykernel_2600/4168705418.py\u001b[0m in \u001b[0;36m<module>\u001b[1;34m\u001b[0m\n\u001b[0;32m      2\u001b[0m \u001b[1;33m\u001b[0m\u001b[0m\n\u001b[0;32m      3\u001b[0m     \u001b[1;31m#wait\u001b[0m\u001b[1;33m\u001b[0m\u001b[1;33m\u001b[0m\u001b[0m\n\u001b[1;32m----> 4\u001b[1;33m     \u001b[0mtime\u001b[0m\u001b[1;33m.\u001b[0m\u001b[0msleep\u001b[0m\u001b[1;33m(\u001b[0m\u001b[0mt_interval_sec\u001b[0m\u001b[1;33m)\u001b[0m\u001b[1;33m\u001b[0m\u001b[1;33m\u001b[0m\u001b[0m\n\u001b[0m\u001b[0;32m      5\u001b[0m \u001b[1;33m\u001b[0m\u001b[0m\n\u001b[0;32m      6\u001b[0m     \u001b[1;31m#  andor send and receive goes here\u001b[0m\u001b[1;33m\u001b[0m\u001b[1;33m\u001b[0m\u001b[0m\n",
      "\u001b[1;31mKeyboardInterrupt\u001b[0m: "
     ]
    }
   ],
   "source": [
    "for i in range(images_no):\n",
    "    \n",
    "    #wait\n",
    "    time.sleep(t_interval_sec)\n",
    "    \n",
    "    #  andor send and receive goes here\n",
    "    flag_andor=andor_conn.send(b\"go\")\n",
    "    timestr = time.strftime(\"%Y/%m/%d_%H:%M:%S\")\n",
    "    with open(filename, 'a',newline='') as csvfile:\n",
    "        writer = csv.writer(csvfile) \n",
    "        writer.writerow([i,timestr])\n",
    "    \n",
    "    print (timestr)\n",
    "    msg_andor=andor_conn.recv(1024)\n",
    "    if msg_andor.rstrip(b'\\x00').decode(\"utf-8\")==\"abc\":\n",
    "        print(f'image{i} done')\n",
    " \n",
    "    \n",
    "    "
   ]
  }
 ],
 "metadata": {
  "kernelspec": {
   "display_name": "Python 3 (ipykernel)",
   "language": "python",
   "name": "python3"
  },
  "language_info": {
   "codemirror_mode": {
    "name": "ipython",
    "version": 3
   },
   "file_extension": ".py",
   "mimetype": "text/x-python",
   "name": "python",
   "nbconvert_exporter": "python",
   "pygments_lexer": "ipython3",
   "version": "3.9.7"
  }
 },
 "nbformat": 4,
 "nbformat_minor": 5
}
